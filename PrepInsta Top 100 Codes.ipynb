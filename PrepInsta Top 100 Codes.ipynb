{
 "cells": [
  {
   "cell_type": "markdown",
   "metadata": {},
   "source": [
    "# PrepInsta Top 100 Codes [https://prepinsta.com/top-100-codes/](https://prepinsta.com/top-100-codes/)\n"
   ]
  },
  {
   "cell_type": "markdown",
   "metadata": {},
   "source": [
    "## Getting Started(complete)\n"
   ]
  },
  {
   "cell_type": "code",
   "execution_count": null,
   "metadata": {},
   "outputs": [],
   "source": [
    "# 1. Positive or Negative number:\n",
    "num = int(input(\"Enter number\"))\n",
    "if num>0:\n",
    "    print(\"Positive\")\n",
    "else:\n",
    "    print(\"Negative\")"
   ]
  },
  {
   "cell_type": "code",
   "execution_count": null,
   "metadata": {},
   "outputs": [],
   "source": [
    "# 2. Even or Odd number:\n",
    "num = int(input(\"Enter number\"))\n",
    "if num%2==0:\n",
    "    print(\"Even\")\n",
    "else:\n",
    "    print(\"Odd\")"
   ]
  },
  {
   "cell_type": "code",
   "execution_count": null,
   "metadata": {},
   "outputs": [],
   "source": [
    "# 3. Sum of First N Natural numbers\n",
    "n = int(input(\"Enter number\"))\n",
    "sum = 0\n",
    "while n>0:\n",
    "    sum += n\n",
    "    n -= 1\n",
    "print(\"Sum of first N natural numbers is:\", sum)"
   ]
  },
  {
   "cell_type": "code",
   "execution_count": null,
   "metadata": {},
   "outputs": [],
   "source": [
    "# 4. Sum of N natural numbers\n",
    "n = int(input(\"Enter number\"))\n",
    "sum = n*(n+1)/2\n",
    "print(f\"sum of first {n} natural numbers is: {sum}\")"
   ]
  },
  {
   "cell_type": "code",
   "execution_count": null,
   "metadata": {},
   "outputs": [],
   "source": [
    "# 5. Sum of numbers in a given range \n",
    "n1, n2 = map(int, input(\"Enter range\").split())\n",
    "sum = 0\n",
    "for i in range(n1, n2+1):\n",
    "    sum += i\n",
    "print(f\"Sum of numbers in range {n1} to {n2} is: {sum}\")"
   ]
  },
  {
   "cell_type": "code",
   "execution_count": null,
   "metadata": {},
   "outputs": [],
   "source": [
    "# 6. Greatest of two numbers \n",
    "a,b = map(int,input(\"Enter two numbers\").split())\n",
    "print(f\"greatest between {a} and {b} is: {a if a>b else b}\")\n"
   ]
  },
  {
   "cell_type": "code",
   "execution_count": null,
   "metadata": {},
   "outputs": [],
   "source": [
    "# 7.  Greatest of the Three numbers \n",
    "a,b,c= map(int,input(\"enter three num\").split())\n",
    "print(\"greatest between {a},{b},{c} is: \",max(a,b,c))  "
   ]
  },
  {
   "cell_type": "code",
   "execution_count": null,
   "metadata": {},
   "outputs": [],
   "source": [
    "# 8. Leap year or not \n",
    "year = int(input(\"enter year\"))\n",
    "if year%4==0 and year%100!=0 or year%400==0:\n",
    "    print(\"Leap year\")\n",
    "else:\n",
    "    print(\"Not a Leap year\")\n"
   ]
  },
  {
   "cell_type": "code",
   "execution_count": null,
   "metadata": {},
   "outputs": [],
   "source": [
    "# 9. Prime number \n",
    "n = int(input(\"enter n.\"))\n",
    "for i in range(2,n):\n",
    "    if n%i == 0:\n",
    "        print(\"Not a prime number\")\n",
    "        break\n",
    "    else:\n",
    "        print(\"Prime number\")\n",
    "        break\n"
   ]
  },
  {
   "cell_type": "code",
   "execution_count": null,
   "metadata": {},
   "outputs": [],
   "source": [
    "# 10. Prime number within a given range \n",
    "n1, n2 = map(int, input(\"Enter range\").split())\n",
    "for i in range(n1, n2+1):\n",
    "    for j in range(2, i):\n",
    "        if i%j == 0:\n",
    "            break\n",
    "    else:\n",
    "        print(i)\n",
    " "
   ]
  },
  {
   "cell_type": "code",
   "execution_count": null,
   "metadata": {},
   "outputs": [],
   "source": [
    "# 11. Sum of digits of a number \n",
    "n = int(input(\"enter number: \"))\n",
    "sum=0\n",
    "while n>0:\n",
    "    sum+=n%10\n",
    "    n//=10\n",
    "print(\"sum of digits is: \",sum)\n"
   ]
  },
  {
   "cell_type": "code",
   "execution_count": null,
   "metadata": {},
   "outputs": [],
   "source": [
    "# 12. Reverse of a number  \n",
    "n = int(input(\"enter number: \"))\n",
    "reverse=0\n",
    "while n>0:\n",
    "    reverse*=10\n",
    "    reverse+=n%10\n",
    "    n//=10\n",
    "    \n",
    "print(\"reverse of digits is: \",reverse)\n"
   ]
  },
  {
   "cell_type": "code",
   "execution_count": null,
   "metadata": {},
   "outputs": [],
   "source": [
    "# 13. Palindrome number \n",
    "number = int(input(\"enter number: \"))\n",
    "temp = number\n",
    "reverse=0\n",
    "while number>0:\n",
    "    reverse*=10\n",
    "    reverse+=number%10\n",
    "    number//=10\n",
    "print(f\"{temp}  is a palidrome\" if temp==reverse else \"not palidrome\")"
   ]
  },
  {
   "cell_type": "code",
   "execution_count": null,
   "metadata": {},
   "outputs": [],
   "source": [
    "# 14. Armstrong number  \n",
    "num = int(input(\"enter number: \"))\n",
    "temp = num\n",
    "sum = 0\n",
    "while num>0:\n",
    "    sum += (num%10)**3\n",
    "    num//=10\n",
    "print(f\"{temp} is armstrong\" if temp==sum else \"not armstrong\")"
   ]
  },
  {
   "cell_type": "code",
   "execution_count": null,
   "metadata": {},
   "outputs": [],
   "source": [
    "# 15. Armstrong number in a given range  \n",
    "range1, range2 = map(int, input(\"Enter range\").split())\n",
    "for i in range(range1, range2+1):\n",
    "    temp = i\n",
    "    sum = 0\n",
    "    while i>0:\n",
    "        sum += (i%10)**3\n",
    "        i//=10\n",
    "    if temp==sum:\n",
    "        print(temp)\n"
   ]
  },
  {
   "cell_type": "code",
   "execution_count": null,
   "metadata": {},
   "outputs": [],
   "source": [
    "# 16. Fibonacci Series upto nth term  \n",
    "n = int(input(\"enter n: \"))\n",
    "a,b = 0,1\n",
    "for i in range(n):\n",
    "    print(a)\n",
    "    a,b = b,a+b\n"
   ]
  },
  {
   "cell_type": "code",
   "execution_count": null,
   "metadata": {},
   "outputs": [],
   "source": [
    "# 17. Find the Nth Term of the Fibonacci Series  \n",
    "n = int(input(\"enter n: \"))\n",
    "a,b = 0,1\n",
    "for i in range(n):\n",
    "    a,b = b,a+b\n",
    "print(f\"{n}th term of fibonacci series is: {b} (using zero indexing)\")\n"
   ]
  },
  {
   "cell_type": "code",
   "execution_count": null,
   "metadata": {},
   "outputs": [],
   "source": [
    "# 18. Factorial of a number  \n",
    "n = int(input(\"enter n: \"))\n",
    "def fact(n):\n",
    "    if n==0:\n",
    "        return 1\n",
    "    return n*fact(n-1)\n",
    "print(f\"factorial of {n} is: {fact(n)}\")\n",
    "\n"
   ]
  },
  {
   "cell_type": "code",
   "execution_count": null,
   "metadata": {},
   "outputs": [],
   "source": [
    "# 19. Power of a number  \n",
    "n,p = map(int, input(\"enter number and power\").split())\n",
    "print(f\"{n}^{p} is using first method: {n**p}\")\n",
    "print(f\"{n}^{p} is using second method: {pow(n,p)}\")\n"
   ]
  },
  {
   "cell_type": "code",
   "execution_count": null,
   "metadata": {},
   "outputs": [],
   "source": [
    "# 20. Factor of a number  \n",
    "n = int(input(\"enter number: \"))\n",
    "for i in range(1,n+1):\n",
    "    if n%i==0:\n",
    "        print(i)\n"
   ]
  },
  {
   "cell_type": "code",
   "execution_count": null,
   "metadata": {},
   "outputs": [],
   "source": [
    "# 21. Finding Prime Factors of a number  \n",
    "n = int(input(\"enter number: \"))\n",
    "for i in range(2,n):\n",
    "    if n%i==0:\n",
    "        for j in range(2,i):\n",
    "            if i%j==0:\n",
    "                break\n",
    "        else:\n",
    "            print(i)\n"
   ]
  },
  {
   "cell_type": "code",
   "execution_count": null,
   "metadata": {},
   "outputs": [],
   "source": [
    "# 22. Strong number  :a positive integer whose sum of the factorials of its digits equals the original number\n",
    "n = int(input(\"enter number: \"))\n",
    "temp = n\n",
    "sum = 0\n",
    "while n>0:\n",
    "    fact = 1\n",
    "    for i in range(1,n%10+1):\n",
    "        fact *= i\n",
    "    sum += fact\n",
    "    n//=10\n",
    "print(f\"{temp} is strong number\" if temp==sum else \"not strong number\")"
   ]
  },
  {
   "cell_type": "code",
   "execution_count": null,
   "metadata": {},
   "outputs": [],
   "source": [
    "# 23. Perfect number  :a positive integer that is equal to the sum of its proper divisors(factors excluding itself)\n",
    "n = int(input(\"enter number: \"))\n",
    "sum = 0\n",
    "for i in range(1,n):\n",
    "    if n%i==0:\n",
    "        sum += i\n",
    "print(f\"{n} is perfect number\" if sum==n else \"not perfect number\")"
   ]
  },
  {
   "cell_type": "code",
   "execution_count": null,
   "metadata": {},
   "outputs": [],
   "source": [
    "# 24. Perfect Square  :A number expressed as a product of an integer by itself is called a perfect square\n",
    "import math\n",
    "n = int(input(\"enter number: \"))\n",
    "print(f\"{n} is perfect square\" if math.sqrt(n)==int(math.sqrt(n)) else \"not perfect square\")\n"
   ]
  },
  {
   "cell_type": "code",
   "execution_count": null,
   "metadata": {},
   "outputs": [],
   "source": [
    "# 25. Automorphic number  :A number is called an Automorphic number if and only if its square ends in the same digits as the number itself.\n",
    "n = abs(int(input(\"enter number: \")))\n",
    "square = n**2\n",
    "# same reminder means last digits are same mean automorphic number eg. 25^2=625\n",
    "if n%10**len(str(n))==square%10**len(str(n)):\n",
    "    print(f\"{n} is automorphic number\")\n",
    "\n"
   ]
  },
  {
   "cell_type": "code",
   "execution_count": null,
   "metadata": {},
   "outputs": [],
   "source": [
    "# 26. Harshad number  :an integer that is divisible by the sum of its digits when written in that base. eg 18=1+8=9\n",
    "n = int(input(\"enter number: \"))\n",
    "temp = n\n",
    "sum = 0\n",
    "while n>0:\n",
    "    sum+=n%10\n",
    "    n//=10\n",
    "print(f\"{temp} is harshad number\" if temp%sum==0 else \"not harshad number\")\n"
   ]
  },
  {
   "cell_type": "code",
   "execution_count": null,
   "metadata": {},
   "outputs": [],
   "source": [
    "# 27. Abundant number  :A number n is said to be an Abundant Number if the sum of all the proper divisors of the number denoted by sum(n) is greater than the value of the number n. And the difference between these two values is called abundance. \n",
    "n = int(input(\"enter number: \"))\n",
    "sum = 0\n",
    "for i in range(1,n):\n",
    "    if n%i==0:\n",
    "        sum += i\n",
    "print(f\"{n} is abundant number\" if sum>n else \"not abundant number\")\n"
   ]
  },
  {
   "cell_type": "code",
   "execution_count": null,
   "metadata": {},
   "outputs": [],
   "source": [
    "# 28. Friendly pair :The numbers whose ( sum of divisors ) / number ratio is same are known as Friendly Pair Numbers.\n",
    "n1, n2 = map(int, input(\"enter two numbers: \").split())\n",
    "sum1, sum2 = 0, 0\n",
    "for i in range(1,n1):\n",
    "    if n1%i==0:\n",
    "        sum1 += i\n",
    "for i in range(1,n2):\n",
    "    if n2%i==0:\n",
    "        sum2 += i\n",
    "print(f\"{n1} and {n2} are friendly pair\" if sum1/n1==sum2/n2 else \"not friendly pair\")"
   ]
  },
  {
   "cell_type": "markdown",
   "metadata": {},
   "source": [
    "## Working with Numbers(complete)\n"
   ]
  },
  {
   "cell_type": "code",
   "execution_count": null,
   "metadata": {},
   "outputs": [],
   "source": [
    "#1. Highest Common Factor(HCF)\n",
    "n1, n2 = map(int, input(\"enter two numbers: \").split())\n",
    "temp1,temp2 = n1,n2\n",
    "\n",
    "while n2:\n",
    "    n1,n2 = n2,n1%n2\n",
    "print(f\"HCF of {temp1} and {temp2} is: {n1}\")\n"
   ]
  },
  {
   "cell_type": "code",
   "execution_count": null,
   "metadata": {},
   "outputs": [],
   "source": [
    "#2. Lowest Common Multiple (LCM)\n",
    "n1, n2 = map(int, input(\"enter two numbers: \").split())\n",
    "temp1,temp2 = n1,n2\n",
    "while n2:\n",
    "    n1,n2 = n2,n1%n2\n",
    "print(f\"LCM of {temp1} and {temp2} is: {temp1*temp2//n1}\")\n"
   ]
  },
  {
   "cell_type": "code",
   "execution_count": null,
   "metadata": {},
   "outputs": [],
   "source": [
    "#3. Greatest Common Divisor\n",
    "n1, n2 = map(int, input(\"enter two numbers: \").split())\n",
    "temp1,temp2 = n1,n2\n",
    "while n2:\n",
    "    n1,n2 = n2,n1%n2\n",
    "print(f\"GCD of {temp1} and {temp2} is: {n1}\")\n"
   ]
  },
  {
   "cell_type": "code",
   "execution_count": null,
   "metadata": {},
   "outputs": [],
   "source": [
    "#4. Binary to Decimal to conversion\n",
    "binary = input(\"enter binary number: \")\n",
    "decimal = 0\n",
    "for i in range(len(binary)):\n",
    "    decimal += int(binary[i])*2**(len(binary)-1-i)\n",
    "print(f\"decimal of binary :{binary} is: {decimal}\")\n"
   ]
  },
  {
   "cell_type": "code",
   "execution_count": null,
   "metadata": {},
   "outputs": [],
   "source": [
    "#5. Octal to Decimal conversion\n",
    "octal = input(\"enter octal number: \")\n",
    "decimal = 0\n",
    "for i in range(len(octal)):\n",
    "    decimal += int(octal[i])*8**(len(octal)-1-i)\n",
    "print(f\"decimal of octal: {octal} is: {decimal}\")\n"
   ]
  },
  {
   "cell_type": "code",
   "execution_count": null,
   "metadata": {},
   "outputs": [],
   "source": [
    "#6. Hexadecimal to Decimal conversion:\n",
    "hexadecimal = input(\"enter hexadecimal number: \")\n",
    "decimal = 0\n",
    "for i in range(len(hexadecimal)):\n",
    "    decimal += int(hexadecimal[i],16)*16**(len(hexadecimal)-1-i)\n",
    "print(f\"decimal of hexadecimal: {hexadecimal} is: {decimal}\")\n"
   ]
  },
  {
   "cell_type": "code",
   "execution_count": null,
   "metadata": {},
   "outputs": [],
   "source": [
    "#7. Decimal to Binary conversion\n",
    "decimal = int(input(\"enter decimal number: \"))\n",
    "binary = \"\"\n",
    "while decimal>0:\n",
    "    binary += str(decimal%2)\n",
    "    decimal//=2\n",
    "print(f\"binary of decimal: {decimal} is: {binary[::-1]}\")\n"
   ]
  },
  {
   "cell_type": "code",
   "execution_count": null,
   "metadata": {},
   "outputs": [],
   "source": [
    "#8. Decimal to Octal Conversion\n",
    "decimal = int(input(\"enter decimal number: \"))\n",
    "octal = \"\"\n",
    "while decimal>0:\n",
    "    octal += str(decimal%8)\n",
    "    decimal//=8\n",
    "print(f\"octal of decimal: {decimal} is: {octal[::-1]}\")\n"
   ]
  },
  {
   "cell_type": "code",
   "execution_count": null,
   "metadata": {},
   "outputs": [],
   "source": [
    "#9. Decimal to Hexadecimal Conversion\n",
    "decimal = int(input(\"enter decimal number: \"))\n",
    "hexadecimal = \"\"\n",
    "while decimal>0:\n",
    "    hexadecimal += str(hex(decimal%16)[2:])\n",
    "    decimal//=16\n",
    "print(f\"hexadecimal of decimal: {decimal} is: {hexadecimal[::-1]}\")\n"
   ]
  },
  {
   "cell_type": "code",
   "execution_count": null,
   "metadata": {},
   "outputs": [],
   "source": [
    "#10. Binary to Octal conversion\n",
    "binary = input(\"Enter binary number: \")\n",
    "decimal = 0\n",
    "\n",
    "# Convert binary to decimal\n",
    "for i in range(len(binary)):\n",
    "    decimal += int(binary[i]) * 2 ** (len(binary) - 1 - i)\n",
    "\n",
    "# Convert decimal to octal\n",
    "if decimal == 0:\n",
    "    octal = \"0\"\n",
    "else:\n",
    "    octal = \"\"\n",
    "    while decimal > 0:\n",
    "        octal = str(decimal % 8) + octal\n",
    "        decimal //= 8\n",
    "\n",
    "print(f\"Octal of binary {binary} is: {octal}\")\n",
    "\n"
   ]
  },
  {
   "cell_type": "code",
   "execution_count": null,
   "metadata": {},
   "outputs": [],
   "source": [
    "#11. Octal to Binary conversion\n",
    "\n",
    "octal = input(\"Enter octal number: \")\n",
    "binary = \"\"\n",
    "for digit in octal:\n",
    "    binary += bin(int(digit))[2:].zfill(3)\n",
    "print(f\"Binary of octal {octal} is: {binary}\")"
   ]
  },
  {
   "cell_type": "code",
   "execution_count": null,
   "metadata": {},
   "outputs": [],
   "source": [
    "#12. Quadrants in which a given coordinate lies\n",
    "\n",
    "x,y = map(int, input(\"enter coordinate: \").split())\n",
    "if x>0 and y>0:\n",
    "    print(\"First Quadrant\")\n",
    "elif x<0 and y>0:\n",
    "    print(\"Second Quadrant\")\n",
    "elif x<0 and y<0:\n",
    "    print(\"Third Quadrant\")\n",
    "else:\n",
    "    print(\"Fourth Quadrant\")\n",
    "\n"
   ]
  },
  {
   "cell_type": "code",
   "execution_count": null,
   "metadata": {},
   "outputs": [],
   "source": [
    "#15. Addition of two fractions\n",
    "\n",
    "from fractions import Fraction\n",
    "n1,d1 = map(int, input(\"enter first fraction: \").split())\n",
    "n2,d2 = map(int, input(\"enter second fraction: \").split())\n",
    "fraction1 = Fraction(n1,d1) \n",
    "fraction2 = Fraction(n2,d2)\n",
    "print(f\"addition of two fractions is: {fraction1+fraction2}\")\n"
   ]
  },
  {
   "cell_type": "code",
   "execution_count": null,
   "metadata": {},
   "outputs": [],
   "source": [
    "#16. Replace all 0’s with 1 in a given integer\n",
    "\n",
    "n = int(input(\"enter number: \"))\n",
    "n = str(n).replace(\"0\",\"1\")\n",
    "print(f\"number after replacing 0 with 1 is: {int(n)}\")"
   ]
  },
  {
   "cell_type": "code",
   "execution_count": null,
   "metadata": {},
   "outputs": [],
   "source": [
    "#17. Can a number be expressed as a sum of two prime numbers\n",
    "\n",
    "def is_prime(num):\n",
    "    if num < 2:\n",
    "        return False\n",
    "    for i in range(2, int(num**0.5) + 1):\n",
    "        if num % i == 0:\n",
    "            return False\n",
    "    return True\n",
    "\n",
    "def sum_of_two_primes(num):\n",
    "    for i in range(2, num // 2 + 1):\n",
    "        if is_prime(i) and is_prime(num - i):\n",
    "            return i, num - i\n",
    "    return None\n",
    "\n",
    "num = int(input(\"Enter a number: \"))\n",
    "result = sum_of_two_primes(num)\n",
    "if result:\n",
    "    print(f\"{num} can be expressed as the sum of two prime numbers: {result[0]} and {result[1]}\")\n",
    "else:\n",
    "    print(f\"{num} cannot be expressed as the sum of two prime numbers\")\n"
   ]
  },
  {
   "cell_type": "code",
   "execution_count": null,
   "metadata": {},
   "outputs": [],
   "source": [
    "#18. Count possible decoding of a given digit sequence\n",
    "def count_decodings(digits):\n",
    "    if len(digits) == 0:\n",
    "        return 1\n",
    "    if digits[0] == '0':\n",
    "        return 0\n",
    "    count = count_decodings(digits[1:])\n",
    "    if len(digits) >= 2 and int(digits[:2]) <= 26:\n",
    "        count += count_decodings(digits[2:])\n",
    "    return count\n",
    "num = input(\"Enter a digit sequence: \")\n",
    "print(f\"Number of possible decodings of {num}: {count_decodings(num)}\")"
   ]
  },
  {
   "cell_type": "code",
   "execution_count": null,
   "metadata": {},
   "outputs": [],
   "source": [
    "#19. Calculate the area of a circle\n",
    "import math\n",
    "r = int(input(\"enter radius: \"))\n",
    "print(f\"area of circle is: {math.pi*r**2}\")"
   ]
  },
  {
   "cell_type": "code",
   "execution_count": null,
   "metadata": {},
   "outputs": [],
   "source": [
    "#20. Find the prime numbers between 1 to 100\n",
    "for i in range(2,101):\n",
    "    for j in range(2,i):\n",
    "        if i%j==0:\n",
    "            break\n",
    "    else:\n",
    "        print(i)\n"
   ]
  },
  {
   "cell_type": "code",
   "execution_count": null,
   "metadata": {},
   "outputs": [],
   "source": [
    "#21. Calculate the number of digits in an integer\n",
    "n = int(input(\"enter number: \"))\n",
    "print(f\"number of digits in {n} is: {len(str(n))}\")\n"
   ]
  },
  {
   "cell_type": "code",
   "execution_count": null,
   "metadata": {},
   "outputs": [],
   "source": [
    "#22. Convert digit/number to words\n",
    "def convert_to_words(num):\n",
    "    words = ['zero', 'one', 'two', 'three', 'four', 'five', 'six', 'seven', 'eight', 'nine']\n",
    "    teens = ['ten', 'eleven', 'twelve', 'thirteen', 'fourteen', 'fifteen', 'sixteen', 'seventeen', 'eighteen', 'nineteen']\n",
    "    tens = ['twenty', 'thirty', 'forty', 'fifty', 'sixty', 'seventy', 'eighty', 'ninety']\n",
    "    \n",
    "    num_str = str(num)\n",
    "    \n",
    "    if len(num_str) == 1:\n",
    "        return words[int(num_str)]\n",
    "    elif len(num_str) == 2:\n",
    "        if num_str[0] == '1':\n",
    "            return teens[int(num_str[1])]\n",
    "        else:\n",
    "            return tens[int(num_str[0]) - 2] + ('' if num_str[1] == '0' else '-' + words[int(num_str[1])])\n",
    "    elif len(num_str) == 3:\n",
    "        return words[int(num_str[0])] + ' hundred' + ('' if num_str[1:] == '00' else ' and ' + convert_to_words(int(num_str[1:])))\n",
    "    elif len(num_str) == 4:\n",
    "        return words[int(num_str[0])] + ' thousand' + ('' if num_str[1:] == '000' else ' ' + convert_to_words(int(num_str[1:])))\n",
    "    else:\n",
    "        return 'Invalid number'\n",
    "\n",
    "# Input validation\n",
    "while True:\n",
    "    try:\n",
    "        digit = int(input(\"Enter a digit (0-9999): \"))\n",
    "        if 0 <= digit <= 9999:\n",
    "            break\n",
    "        else:\n",
    "            print(\"Please enter a number between 0 and 9999.\")\n",
    "    except ValueError:\n",
    "        print(\"Invalid input. Please enter a valid number.\")\n",
    "\n",
    "print(convert_to_words(digit))\n"
   ]
  },
  {
   "cell_type": "code",
   "execution_count": null,
   "metadata": {},
   "outputs": [],
   "source": [
    "#23. Counting number of days in a given month of a year\n",
    "month = int(input(\"enter month: \"))\n",
    "year = int(input(\"enter year: \"))\n",
    "if month in [1,3,5,7,8,10,12]:\n",
    "    print(\"31 days\")\n",
    "elif month in [4,6,9,11]:\n",
    "    print(\"30 days\")\n",
    "else:\n",
    "    if year%4==0 and year%100!=0 or year%400==0:\n",
    "        print(\"29 days\")\n",
    "    else:\n",
    "        print(\"28 days\")\n"
   ]
  },
  {
   "cell_type": "code",
   "execution_count": null,
   "metadata": {},
   "outputs": [],
   "source": [
    "#24. Finding Number of times x digit occurs in a given input\n",
    "n = input(\"enter number: \")\n",
    "digit = input(\"enter digit: \")\n",
    "count = 0\n",
    "for i in n:\n",
    "    if i==digit:\n",
    "        count+=1\n",
    "print(f\"number of times {digit} occurs in {n} is: {count}\")\n"
   ]
  },
  {
   "cell_type": "code",
   "execution_count": null,
   "metadata": {},
   "outputs": [],
   "source": [
    "#25. Finding number of integers which has exactly x divisors\n",
    "x = int(input(\"enter number of divisors: \"))\n",
    "count = 0\n",
    "for i in range(1,101):\n",
    "    divisors = 0\n",
    "    for j in range(1,i+1):\n",
    "        if i%j==0:\n",
    "            divisors+=1\n",
    "    if divisors==x:\n",
    "        count+=1\n",
    "print(f\"number of integers which has exactly {x} divisors is: {count}\")\n",
    "\n"
   ]
  },
  {
   "cell_type": "code",
   "execution_count": null,
   "metadata": {},
   "outputs": [],
   "source": [
    "#26.Finding Roots of a quadratic equation\n",
    "\n",
    "import math\n",
    "\n",
    "a,b,c = map(int, input(\"Enter a, b, c: \").split())\n",
    "\n",
    "# Calculate the discriminant\n",
    "discriminant = b**2 - 4*a*c\n",
    "\n",
    "# Check if the discriminant is positive, negative, or zero\n",
    "if discriminant > 0:\n",
    "    # Two distinct real roots\n",
    "    root1 = (-b + math.sqrt(discriminant)) / (2*a)\n",
    "    root2 = (-b - math.sqrt(discriminant)) / (2*a)\n",
    "    print(\"Roots are:\", root1, root2)\n",
    "elif discriminant == 0:\n",
    "    # One real root (repeated)\n",
    "    root = -b / (2*a)\n",
    "    print(\"Root is:\", root)\n",
    "else:\n",
    "    # Complex roots\n",
    "    real_part = -b / (2*a)\n",
    "    imaginary_part = math.sqrt(-discriminant) / (2*a)\n",
    "    root1 = complex(real_part, imaginary_part)\n",
    "    root2 = complex(real_part, -imaginary_part)\n",
    "    print(\"Roots are complex:\", root1, root2)\n"
   ]
  },
  {
   "cell_type": "markdown",
   "metadata": {},
   "source": [
    "## Codes for Recursion(complete)\n"
   ]
  },
  {
   "cell_type": "code",
   "execution_count": null,
   "metadata": {},
   "outputs": [],
   "source": [
    "#1. Power of a Number\n",
    "def power(base, exponent):\n",
    "    if exponent == 0:\n",
    "        return 1\n",
    "    return base * power(base, exponent - 1)\n",
    "m,n = map(int, input(\"Enter base and exponent: \").split())\n",
    "print(\"Result:\", power(m, n))"
   ]
  },
  {
   "cell_type": "code",
   "execution_count": null,
   "metadata": {},
   "outputs": [],
   "source": [
    "#2. Prime Number\n",
    "def is_prime(n, i=2):\n",
    "    if n <= 2:\n",
    "        return n == 2\n",
    "    if n % i == 0:\n",
    "        return False\n",
    "    if i * i > n:\n",
    "        return True\n",
    "    return is_prime(n, i + 1)\n",
    "num = int(input(\"Enter a number: \"))\n",
    "print(\"Prime\" if is_prime(num) else \"Not Prime\")"
   ]
  },
  {
   "cell_type": "code",
   "execution_count": null,
   "metadata": {},
   "outputs": [],
   "source": [
    "#3. Largest element in an array\n",
    "def largest(arr, i=0, max_val=float('-inf')):\n",
    "    if i == len(arr):\n",
    "        return max_val\n",
    "    return largest(arr, i + 1, max(arr[i], max_val))\n",
    "arr = list(map(int, input(\"Enter array: \").split()))\n",
    "print(\"Largest element:\", largest(arr))\n"
   ]
  },
  {
   "cell_type": "code",
   "execution_count": null,
   "metadata": {},
   "outputs": [],
   "source": [
    "#4. Smallest element in an array\n",
    "def smallest(arr, i=0, min_val=float('inf')):\n",
    "    if i == len(arr):\n",
    "        return min_val\n",
    "    return smallest(arr, i + 1, min(arr[i], min_val))\n",
    "arr = list(map(int, input(\"Enter array: \").split()))\n",
    "print(\"Smallest element:\", smallest(arr))\n"
   ]
  },
  {
   "cell_type": "code",
   "execution_count": null,
   "metadata": {},
   "outputs": [],
   "source": [
    "#5. Reversing a Number\n",
    "def reverse(n, rev=0):\n",
    "    if n == 0:\n",
    "        return rev\n",
    "    return reverse(n // 10, rev * 10 + n % 10)\n",
    "num = int(input(\"Enter a number: \"))\n",
    "print(\"Reversed number:\", reverse(num))\n"
   ]
  },
  {
   "cell_type": "code",
   "execution_count": null,
   "metadata": {},
   "outputs": [],
   "source": [
    "#6. HCF of two numbers\n",
    "def hcf(a, b):\n",
    "    if b == 0:\n",
    "        return a\n",
    "    return hcf(b, a % b)\n",
    "num1, num2 = map(int, input(\"Enter two numbers: \").split())\n",
    "print(\"HCF:\", hcf(num1, num2))\n"
   ]
  },
  {
   "cell_type": "code",
   "execution_count": null,
   "metadata": {},
   "outputs": [],
   "source": [
    "#7. LCM of two numbers \n",
    "\n",
    "def lcm(a, b, multiple=None):\n",
    "    if a == 0 or b == 0:\n",
    "        return 0\n",
    "    \n",
    "    if multiple is None:\n",
    "        multiple = max(a, b)\n",
    "    \n",
    "    if multiple % a == 0 and multiple % b == 0:\n",
    "        return multiple\n",
    "    else:\n",
    "        return lcm(a, b, multiple + max(a, b))\n",
    "\n",
    "num1, num2 = map(int, input(\"Enter two numbers: \").split())\n",
    "lcm_result = lcm(num1, num2)\n",
    "print(f\"LCM of {num1} and {num2} is: {lcm_result}\")\n"
   ]
  },
  {
   "cell_type": "code",
   "execution_count": null,
   "metadata": {},
   "outputs": [],
   "source": [
    "#8. Program to calculate length of the string using recursion\n",
    "string = input(\"Enter a string: \")\n",
    "def calculate_length(string):\n",
    "    if string == \"\":\n",
    "        return 0\n",
    "    return 1 + calculate_length(string[1:])\n",
    "\n",
    "length = calculate_length(string)\n",
    "print(\"Length of the string:\", length)\n"
   ]
  },
  {
   "cell_type": "code",
   "execution_count": null,
   "metadata": {},
   "outputs": [],
   "source": [
    "#9. Print All Permutations of a String using Recursion\n",
    "def permutations(s, start=0):\n",
    "    if start == len(s):\n",
    "        print(\"\".join(s))\n",
    "    for i in range(start, len(s)):\n",
    "        s[start], s[i] = s[i], s[start]\n",
    "        permutations(s, start + 1)\n",
    "        s[start], s[i] = s[i], s[start]\n",
    "s = input(\"Enter a string: \")\n",
    "permutations(list(s))\n",
    "print(\"All permutations printed successfully!\")"
   ]
  },
  {
   "cell_type": "code",
   "execution_count": null,
   "metadata": {},
   "outputs": [],
   "source": [
    "#10. Given an integer N the task is to print the F(N)th term.\n",
    "def fibonacci(n):\n",
    "    if n <= 1:\n",
    "        return n\n",
    "    return fibonacci(n - 1) + fibonacci(n - 2)\n",
    "num = int(input(\"Enter a number: \"))\n",
    "print(\"Fibonacci term:\", fibonacci(num))"
   ]
  },
  {
   "cell_type": "code",
   "execution_count": null,
   "metadata": {},
   "outputs": [],
   "source": [
    "#11. Given a list arr of N integers, print sums of all subsets in it\n",
    "def subset_sum(arr, i, sum=0):\n",
    "    if i == len(arr):\n",
    "        return sum\n",
    "    return subset_sum(arr, i + 1, sum) + subset_sum(arr, i + 1, sum + arr[i])\n",
    "arr = list(map(int, input(\"Enter array: \").split()))\n",
    "print(\"Subset sums:\", subset_sum(arr, 0))\n"
   ]
  },
  {
   "cell_type": "code",
   "execution_count": null,
   "metadata": {},
   "outputs": [],
   "source": [
    "#12. Last non-zero digit in factorial\n",
    "def last_non_zero_digit(n):\n",
    "    if n == 0:\n",
    "        return 1\n",
    "    return n * last_non_zero_digit(n - 1)\n",
    "num = int(input(\"Enter a number: \"))\n",
    "result = last_non_zero_digit(num)\n",
    "while result % 10 == 0:\n",
    "    result //= 10\n",
    "print(\"Last non-zero digit in factorial:\", result % 10)"
   ]
  },
  {
   "cell_type": "code",
   "execution_count": null,
   "metadata": {},
   "outputs": [],
   "source": [
    "#13. Given a positive integer N, return the Nth row of pascal’s triangle\n",
    "def pascal_triangle(n):\n",
    "    if n == 0:\n",
    "        return [1]\n",
    "    prev_row = pascal_triangle(n - 1)\n",
    "    row = [1]\n",
    "    for i in range(1, n):\n",
    "        row.append(prev_row[i - 1] + prev_row[i])\n",
    "    row.append(1)\n",
    "    return row\n",
    "num = int(input(\"Enter a number: \"))\n",
    "print(\"Pascal's triangle row:\", pascal_triangle(num))"
   ]
  },
  {
   "cell_type": "code",
   "execution_count": null,
   "metadata": {},
   "outputs": [],
   "source": [
    "#14. Given an integer N representing the number of pairs of parentheses, the task is to generate all combinations of well-formed(balanced) parentheses\n",
    "def generate_parentheses(n, s=\"\", open=0, close=0):\n",
    "    if len(s) == 2 * n:\n",
    "        print(s)\n",
    "        return\n",
    "    if open < n:\n",
    "        generate_parentheses(n, s + \"(\", open + 1, close)\n",
    "    if close < open:\n",
    "        generate_parentheses(n, s + \")\", open, close + 1)\n",
    "n = int(input(\"Enter a number: \"))\n",
    "generate_parentheses(n)\n",
    "print(\"Parentheses combinations generated successfully!\")"
   ]
  },
  {
   "cell_type": "code",
   "execution_count": null,
   "metadata": {},
   "outputs": [],
   "source": [
    "#15. Find the Factorial of a number using recursion\n",
    "def factorial(n):\n",
    "    if n == 0:\n",
    "        return 1\n",
    "    return n * factorial(n - 1)\n",
    "num = int(input(\"Enter a number: \"))\n",
    "print(\"Factorial:\", factorial(num))"
   ]
  },
  {
   "cell_type": "code",
   "execution_count": null,
   "metadata": {},
   "outputs": [],
   "source": [
    "#16. Find all possible Palindromic partitions of the given String\n",
    "def is_palindrome(s):\n",
    "    return s == s[::-1]\n",
    "s = input(\"Enter a string: \")\n",
    "def palindromic_partitions(s, path=[]):\n",
    "    if not s:\n",
    "        print(path)\n",
    "        return\n",
    "    for i in range(1, len(s) + 1):\n",
    "        if is_palindrome(s[:i]):\n",
    "            palindromic_partitions(s[i:], path + [s[:i]])\n",
    "palindromic_partitions(s)\n",
    "print(\"All palindromic partitions printed successfully!\")"
   ]
  },
  {
   "cell_type": "code",
   "execution_count": null,
   "metadata": {},
   "outputs": [],
   "source": [
    "#17. Find all the N bit binary numbers having more than or equal 1’s than 0’s\n",
    "def generate_binary(n, ones=0, zeros=0, result=\"\"):\n",
    "    if n == 0:\n",
    "        print(result)\n",
    "        return\n",
    "    if ones > zeros:\n",
    "        generate_binary(n - 1, ones, zeros + 1, result + \"0\")\n",
    "    generate_binary(n - 1, ones + 1, zeros, result + \"1\")\n",
    "\n",
    "n = int(input(\"Enter a number: \"))\n",
    "generate_binary(n)\n",
    "\n",
    "print(\"All valid binary numbers printed successfully!\")\n",
    "\n"
   ]
  },
  {
   "cell_type": "code",
   "execution_count": null,
   "metadata": {},
   "outputs": [],
   "source": [
    "#18. Given a set of positive integers, find all its subsets\n",
    "def subsets(arr, i, path=[]):\n",
    "    if i == len(arr): \n",
    "        print(path)\n",
    "        return\n",
    "    subsets(arr, i + 1, path)\n",
    "    subsets(arr, i + 1, path + [arr[i]])\n",
    "arr = list(map(int, input(\"Enter array: \").split()))\n",
    "subsets(arr, 0)\n",
    "print(\"All subsets printed successfully!\")"
   ]
  },
  {
   "cell_type": "code",
   "execution_count": null,
   "metadata": {},
   "outputs": [],
   "source": [
    "#19. Given a string s, remove all its adjacent duplicate characters recursively\n",
    "s = input(\"Enter a string: \")\n",
    "def remove_adjacent_duplicates(s):\n",
    "    if not s:\n",
    "        return \"\"\n",
    "    if len(s) == 1:\n",
    "        return s\n",
    "    if s[0] == s[1]:\n",
    "        return remove_adjacent_duplicates(s[1:])\n",
    "    return s[0] + remove_adjacent_duplicates(s[1:])\n",
    "result = remove_adjacent_duplicates(s)\n",
    "print(\"String after removing adjacent duplicates:\", result)"
   ]
  },
  {
   "cell_type": "markdown",
   "metadata": {},
   "source": [
    "## Important Codes related to Arrays\n"
   ]
  },
  {
   "cell_type": "code",
   "execution_count": null,
   "metadata": {},
   "outputs": [],
   "source": [
    "#1. Find Largest element in an array\n",
    "arr= list(map(int, input(\"Enter array: \").split()))\n",
    "print(\"Largest element in array is: \", max(arr))"
   ]
  },
  {
   "cell_type": "code",
   "execution_count": null,
   "metadata": {},
   "outputs": [],
   "source": [
    "#2. Find Smallest Element in an Array\n",
    "arr= list(map(int, input(\"Enter array: \").split()))\n",
    "print(\"Smallest element in array is: \", min(arr))\n"
   ]
  },
  {
   "cell_type": "code",
   "execution_count": null,
   "metadata": {},
   "outputs": [],
   "source": [
    "#3. Find the Smallest and largest element in an array\n",
    "arr= list(map(int, input(\"Enter array: \").split()))\n",
    "print(\"Smallest element in array is: \", min(arr))\n",
    "print(\"Largest element in array is: \", max(arr))\n"
   ]
  },
  {
   "cell_type": "code",
   "execution_count": null,
   "metadata": {},
   "outputs": [],
   "source": [
    "#4. Find Second Smallest Element in an Array\n",
    "arr= list(map(int, input(\"Enter array: \").split()))\n",
    "arr.sort()\n",
    "print(\"Second smallest element in array is: \", arr[1])\n"
   ]
  },
  {
   "cell_type": "code",
   "execution_count": null,
   "metadata": {},
   "outputs": [],
   "source": [
    "#5. Calculate the sum of elements in an array\n",
    "arr= list(map(int, input(\"Enter array: \").split()))\n",
    "total_sum = sum(arr)  # Rename the variable to avoid conflict with the built-in function name\n",
    "print(\"Sum of elements in array is: \", total_sum)\n"
   ]
  },
  {
   "cell_type": "code",
   "execution_count": null,
   "metadata": {},
   "outputs": [],
   "source": [
    "#6. Reverse an Array\n",
    "arr= list(map(int, input(\"Enter array: \").split()))\n",
    "arr.reverse()\n",
    "print(\"Reverse of array is: \", arr)"
   ]
  },
  {
   "cell_type": "code",
   "execution_count": null,
   "metadata": {},
   "outputs": [],
   "source": [
    "#7. Sort first half in ascending order and second half in descending\n",
    "arr= list(map(int, input(\"Enter array: \").split()))\n",
    "n = len(arr)\n",
    "mid = n // 2\n",
    "arr[:mid] = sorted(arr[:mid])\n",
    "arr[mid:] = sorted(arr[mid:], reverse=True)\n",
    "print(\"Sorted array is: \", arr)\n"
   ]
  },
  {
   "cell_type": "code",
   "execution_count": null,
   "metadata": {},
   "outputs": [],
   "source": [
    "#8. Sort the elements of an array\n",
    "arr= list(input(\"Enter array: \").split())\n",
    "arr.sort()\n",
    "print(\"Sorted array is: \", arr)\n"
   ]
  },
  {
   "cell_type": "code",
   "execution_count": null,
   "metadata": {},
   "outputs": [],
   "source": [
    "#9. Finding the frequency of elements in an array\n",
    "arr = list(input(\"Enter array: \").split())\n",
    "num= input(\"Enter number: \")\n",
    "print(f\"Frequency of {num} is: \", arr.count(num))\n"
   ]
  },
  {
   "cell_type": "code",
   "execution_count": null,
   "metadata": {},
   "outputs": [],
   "source": [
    "#10. Sorting elements of an array by frequency\n",
    "arr = list(input(\"Enter array: \").split())\n",
    "freq = {}\n",
    "for i in arr:\n",
    "    freq[i] = freq.get(i, 0) + 1\n",
    "arr.sort(key=lambda x: (-freq[x], x))\n",
    "print(\"Sorted array by frequency is: \", arr)\n"
   ]
  },
  {
   "cell_type": "code",
   "execution_count": null,
   "metadata": {},
   "outputs": [],
   "source": [
    "#11. Finding the Longest Palindrome in an Array\n",
    "arr = list(input(\"Enter array: \").split())\n",
    "longest_palindrome = \"\"\n",
    "for i in arr:\n",
    "    if i == i[::-1] and len(i) > len(longest_palindrome):\n",
    "        longest_palindrome = i\n",
    "print(\"Longest palindrome in array is: \", longest_palindrome)\n"
   ]
  },
  {
   "cell_type": "code",
   "execution_count": null,
   "metadata": {},
   "outputs": [],
   "source": [
    "#12. Counting Distinct Elements in an Array\n",
    "arr = list(input(\"Enter array: \").split())\n",
    "distinct_elements = len(set(arr))\n",
    "print(\"Number of distinct elements in array is: \", distinct_elements)\n"
   ]
  },
  {
   "cell_type": "code",
   "execution_count": null,
   "metadata": {},
   "outputs": [],
   "source": [
    "#13. Finding  Repeating elements in an Array\n",
    "arr = list(input(\"Enter array: \").split()) \n",
    "repeating_elements = set([x for x in arr if arr.count(x) > 1])\n",
    "print(\"Repeating elements in array are: \", repeating_elements)\n"
   ]
  },
  {
   "cell_type": "code",
   "execution_count": null,
   "metadata": {},
   "outputs": [],
   "source": [
    "#14. Finding Non Repeating elements in an Array\n",
    "arr = list(input(\"Enter array: \").split())\n",
    "non_repeating_elements = [x for x in arr if arr.count(x) == 1]\n",
    "print(\"Non-repeating elements in array are: \", non_repeating_elements)"
   ]
  },
  {
   "cell_type": "code",
   "execution_count": null,
   "metadata": {},
   "outputs": [],
   "source": [
    "#15. Removing Duplicate elements from an array\n",
    "arr = list(input(\"Enter array: \").split())\n",
    "unique_elements = list(set(arr))\n",
    "print(\"Array after removing duplicates: \", unique_elements)\n"
   ]
  },
  {
   "cell_type": "code",
   "execution_count": null,
   "metadata": {},
   "outputs": [],
   "source": [
    "#16. Finding Minimum scalar product of two vectors\n",
    "n = int(input(\"Enter the size of the vectors: \"))\n",
    "vector1 = list(map(int, input(\"Enter vector 1: \").split()))\n",
    "vector2 = list(map(int, input(\"Enter vector 2: \").split()))\n",
    "vector1.sort()\n",
    "vector2.sort(reverse=True)\n",
    "min_scalar_product = sum(vector1[i] * vector2[i] for i in range(n))\n",
    "print(\"Minimum scalar product of the vectors: \", min_scalar_product)"
   ]
  },
  {
   "cell_type": "code",
   "execution_count": null,
   "metadata": {},
   "outputs": [],
   "source": [
    "#17. Finding Maximum scalar product of two vectors in an array\n",
    "n = int(input(\"Enter the size of the vectors: \"))\n",
    "vector1 = list(map(int, input(\"Enter vector 1: \").split()))\n",
    "vector2 = list(map(int, input(\"Enter vector 2: \").split()))\n",
    "vector1.sort()\n",
    "vector2.sort()\n",
    "max_scalar_product = sum(vector1[i] * vector2[i] for i in range(n))\n",
    "print(\"Maximum scalar product of the vectors: \", max_scalar_product)\n"
   ]
  },
  {
   "cell_type": "code",
   "execution_count": null,
   "metadata": {},
   "outputs": [],
   "source": [
    "#18. Counting the number of even and odd elements in an array\n",
    "arr = list(map(int, input(\"Enter array: \").split()))\n",
    "even_count = sum(1 for x in arr if x % 2 == 0)\n",
    "odd_count = len(arr) - even_count\n",
    "print(\"Number of even elements in array: \", even_count)\n",
    "print(\"Number of odd elements in array: \", odd_count)\n",
    "\n"
   ]
  },
  {
   "cell_type": "code",
   "execution_count": null,
   "metadata": {},
   "outputs": [],
   "source": [
    "#19. Find all Symmetric pairs in an array : a pair of strings is symmetric if the reverse of the second string is equal to the first string\n",
    "arr = list(input(\"Enter array: \").split())\n",
    "symmetric_pairs = []\n",
    "for i in range(len(arr)):\n",
    "    for j in range(i+1, len(arr)):\n",
    "        if arr[i] == arr[j][::-1]:\n",
    "            symmetric_pairs.append((arr[i], arr[j]))\n",
    "print(\"Symmetric pairs in array are: \", symmetric_pairs)\n"
   ]
  },
  {
   "cell_type": "code",
   "execution_count": null,
   "metadata": {},
   "outputs": [],
   "source": [
    "#20. Find maximum product sub-array in a given array : The task is to find the contiguous sub-array within an array (containing at least one number) which has the largest product.\n",
    "arr = list(map(int, input(\"Enter array: \").split()))\n",
    "max_product = arr[0]\n",
    "for i in range(len(arr)):\n",
    "    product = arr[i]\n",
    "    for j in range(i+1, len(arr)):\n",
    "        product *= arr[j]\n",
    "        max_product = max(max_product, product)\n",
    "print(\"Maximum product sub-array is: \", max_product)\n"
   ]
  },
  {
   "cell_type": "code",
   "execution_count": null,
   "metadata": {},
   "outputs": [],
   "source": [
    "#21. Finding Arrays are disjoint or not : Two arrays are said to be disjoint if they have no elements in common\n",
    "arr1 = list(input(\"Enter first array: \").split())\n",
    "arr2 = list(input(\"Enter second array: \").split())\n",
    "disjoint = set(arr1).isdisjoint(set(arr2))\n",
    "print(\"Arrays are disjoint: \", disjoint)\n"
   ]
  },
  {
   "cell_type": "code",
   "execution_count": null,
   "metadata": {},
   "outputs": [],
   "source": [
    "#22. Determine Array is a subset of another array or not : An array is said to be a subset of another array if all elements of the first array are present in the second array\n",
    "arr1 = list(input(\"Enter first array: \").split())\n",
    "arr2 = list(input(\"Enter second array: \").split())\n",
    "subset = set(arr1).issubset(set(arr2))\n",
    "print(\"First array is a subset of second array: \", subset)\n"
   ]
  },
  {
   "cell_type": "code",
   "execution_count": null,
   "metadata": {},
   "outputs": [],
   "source": [
    "#23. Determine can all numbers of an array be made equal : The task is to determine whether all numbers of an array can be made equal by only incrementing a number by one.\n",
    "arr = list(map(int, input(\"Enter array: \").split()))\n",
    "can_be_equal = len(set(arr)) == 1\n",
    "print(\"All numbers of array can be made equal: \", can_be_equal)\n"
   ]
  },
  {
   "cell_type": "code",
   "execution_count": null,
   "metadata": {},
   "outputs": [],
   "source": [
    "#24. Finding Minimum sum of absolute difference of given array: The task is to find the minimum sum of absolute differences of consecutive numbers in a given array.\n",
    "arr = list(map(int, input(\"Enter array: \").split()))\n",
    "min_sum = sum(abs(arr[i] - arr[i+1]) for i in range(len(arr) - 1))\n",
    "print(\"Minimum sum of absolute differences: \", min_sum)"
   ]
  },
  {
   "cell_type": "code",
   "execution_count": null,
   "metadata": {},
   "outputs": [],
   "source": [
    "#25. Sort an array according to the order defined by another array\n"
   ]
  },
  {
   "cell_type": "code",
   "execution_count": null,
   "metadata": {},
   "outputs": [],
   "source": [
    "#26. Replace each element of the array by its rank in the array\n"
   ]
  },
  {
   "cell_type": "code",
   "execution_count": null,
   "metadata": {},
   "outputs": [],
   "source": [
    "#27. Finding equilibrium index of an array\n",
    "\n"
   ]
  },
  {
   "cell_type": "code",
   "execution_count": null,
   "metadata": {},
   "outputs": [],
   "source": [
    "#28. Rotation of elements of array- left and right\n",
    "arr = list(map(int, input(\"Enter array: \").split()))\n",
    "n = int(input(\"Enter number of rotations: \"))\n",
    "left_rotation = arr[n:] + arr[:n]\n",
    "right_rotation = arr[-n:] + arr[:-n]\n",
    "print(\"Array after left rotation: \", left_rotation)\n",
    "print(\"Array after right rotation: \", right_rotation)"
   ]
  },
  {
   "cell_type": "code",
   "execution_count": null,
   "metadata": {},
   "outputs": [],
   "source": [
    "#29. Block swap algorithm for array rotation\n",
    "def swap(arr, fi, si, d):\n",
    "    for i in range(d):\n",
    "        arr[fi + i], arr[si + i] = arr[si + i], arr[fi + i]\n",
    "\n",
    "def left_rotate(arr, d, n):\n",
    "    if d == 0 or d == n:\n",
    "        return\n",
    "    if d == n - d:\n",
    "        swap(arr, 0, n - d, d)\n",
    "        return\n",
    "    if d < n - d:\n",
    "        swap(arr, 0, n - d, d)\n",
    "        left_rotate(arr, d, n - d)\n",
    "    else:\n",
    "        swap(arr, 0, d, n - d)\n",
    "        left_rotate(arr[n - d:], 2 * d - n, d)\n",
    "\n",
    "# Input the array and the number of positions to rotate\n",
    "arr = list(map(int, input(\"Enter the array elements: \").split()))\n",
    "d = int(input(\"Enter the number of positions to rotate: \"))\n",
    "\n",
    "n = len(arr)\n",
    "left_rotate(arr, d % n, n)\n",
    "\n",
    "# Print the rotated array\n",
    "print(\"Rotated array:\", arr)\n"
   ]
  },
  {
   "cell_type": "code",
   "execution_count": null,
   "metadata": {},
   "outputs": [],
   "source": [
    "#30. Juggling algorithm for array rotation\n",
    "def gcd(a, b):\n",
    "    while b != 0:\n",
    "        a, b = b, a % b\n",
    "    return a\n",
    "\n",
    "def left_rotate(arr, d, n):\n",
    "    d = d % n  # In case d > n\n",
    "    g_c_d = gcd(d, n)\n",
    "    for i in range(g_c_d):\n",
    "        # Move i-th values of blocks\n",
    "        temp = arr[i]\n",
    "        j = i\n",
    "        while True:\n",
    "            k = j + d\n",
    "            if k >= n:\n",
    "                k = k - n\n",
    "            if k == i:\n",
    "                break\n",
    "            arr[j] = arr[k]\n",
    "            j = k\n",
    "        arr[j] = temp\n",
    "\n",
    "# Input the array and the number of positions to rotate\n",
    "arr = list(map(int, input(\"Enter the array elements: \").split()))\n",
    "d = int(input(\"Enter the number of positions to rotate: \"))\n",
    "\n",
    "n = len(arr)\n",
    "left_rotate(arr, d, n)\n",
    "\n",
    "# Print the rotated array\n",
    "print(\"Rotated array:\", arr)"
   ]
  },
  {
   "cell_type": "code",
   "execution_count": null,
   "metadata": {},
   "outputs": [],
   "source": [
    "#31. Finding Circular rotation of an array by K positions\n",
    "arr = list(map(int, input(\"Enter array: \").split()))\n",
    "k = int(input(\"Enter K: \"))\n",
    "k %= len(arr)\n",
    "rotated_array = arr[-k:] + arr[:-k]\n",
    "print(\"Array after circular rotation by K positions: \", rotated_array)"
   ]
  },
  {
   "cell_type": "code",
   "execution_count": null,
   "metadata": {},
   "outputs": [],
   "source": [
    "#32. Balanced Parenthesis Problem\n",
    "def is_balanced(s):\n",
    "    stack = []\n",
    "    opening = set(\"({[\")\n",
    "    closing = set(\")}]\")\n",
    "    mapping = {\")\": \"(\", \"}\": \"{\", \"]\": \"[\"}\n",
    "    for char in s:\n",
    "        if char in opening:\n",
    "            stack.append(char)\n",
    "        elif char in closing:\n",
    "            if not stack or stack[-1] != mapping[char]:\n",
    "                return False\n",
    "            stack.pop()\n",
    "    return not stack\n",
    "string = input(\"Enter a string: \")\n",
    "print(\"Balanced\" if is_balanced(string) else \"Not Balanced\")"
   ]
  },
  {
   "cell_type": "markdown",
   "metadata": {},
   "source": [
    "## Operations on Strings (complete)\n"
   ]
  },
  {
   "cell_type": "code",
   "execution_count": null,
   "metadata": {},
   "outputs": [],
   "source": [
    "#1. Check whether a character is a vowel or consonant\n",
    "char = input(\"Enter a character: \")\n",
    "if char.lower() in 'aeiou':\n",
    "    print(\"Vowel\")\n",
    "else:\n",
    "    print(\"Consonant\")\n"
   ]
  },
  {
   "cell_type": "code",
   "execution_count": null,
   "metadata": {},
   "outputs": [],
   "source": [
    "#2. Check whether a character is a alphabet or not\n",
    "char = input(\"Enter a character: \")\n",
    "if char.isalpha():\n",
    "    print(\"Alphabet\")\n",
    "else:\n",
    "    print(\"Not an alphabet\")\n",
    "\n"
   ]
  },
  {
   "cell_type": "code",
   "execution_count": null,
   "metadata": {},
   "outputs": [],
   "source": [
    "#3. Find the ASCII value of a character\n",
    "char = input(\"Enter a character: \")\n",
    "ascii_value = ord(char)\n",
    "print(\"ASCII value of character is: \", ascii_value)\n"
   ]
  },
  {
   "cell_type": "code",
   "execution_count": null,
   "metadata": {},
   "outputs": [],
   "source": [
    "#4. Length of the string without using strlen() function\n",
    "string = input(\"Enter a string: \")\n",
    "length = sum(1 for _ in string)\n",
    "print(\"Length of string is: \", length)\n"
   ]
  },
  {
   "cell_type": "code",
   "execution_count": null,
   "metadata": {},
   "outputs": [],
   "source": [
    "#5. Toggle each character in a string\n",
    "string = input(\"Enter a string: \")\n",
    "toggled_string = \"\".join(chr(ord(char) ^ 32) if char.isalpha() else char for char in string)\n",
    "print(\"Toggled string is: \", toggled_string)\n"
   ]
  },
  {
   "cell_type": "code",
   "execution_count": null,
   "metadata": {},
   "outputs": [],
   "source": [
    "#6. Count the number of vowels\n",
    "string = input(\"Enter a string: \")\n",
    "vowels = sum(1 for char in string if char.lower() in 'aeiou')\n",
    "print(\"Number of vowels in string: \", vowels)\n"
   ]
  },
  {
   "cell_type": "code",
   "execution_count": null,
   "metadata": {},
   "outputs": [],
   "source": [
    "#7. Remove the vowels from a String\n",
    "string = input(\"Enter a string: \")\n",
    "vowels = 'aeiou'\n",
    "filtered_string = \"\".join(char for char in string if char.lower() not in vowels)\n",
    "print(\"String after removing vowels: \", filtered_string)\n"
   ]
  },
  {
   "cell_type": "code",
   "execution_count": null,
   "metadata": {},
   "outputs": [],
   "source": [
    "#8. Check if the given string is Palindrome or not\n",
    "string = input(\"Enter a string: \")\n",
    "is_palindrome = string == string[::-1]\n",
    "print(\"String is palindrome: \", is_palindrome)\n"
   ]
  },
  {
   "cell_type": "code",
   "execution_count": null,
   "metadata": {},
   "outputs": [],
   "source": [
    "#9. Print the given string in reverse order\n",
    "string = input(\"Enter a string: \")\n",
    "reversed_string = string[::-1]\n",
    "print(\"Reversed string is: \", reversed_string)\n"
   ]
  },
  {
   "cell_type": "code",
   "execution_count": null,
   "metadata": {},
   "outputs": [],
   "source": [
    "#10. Remove all characters from string except alphabets\n",
    "string = input(\"Enter a string: \")\n",
    "filtered_string = \"\".join(char for char in string if char.isalpha())\n",
    "print(\"String after removing non-alphabets: \", filtered_string)"
   ]
  },
  {
   "cell_type": "code",
   "execution_count": null,
   "metadata": {},
   "outputs": [],
   "source": [
    "#11. Remove spaces from a string\n",
    "string = input(\"Enter a string: \")\n",
    "filtered_string = \"\".join(char for char in string if not char.isspace())\n",
    "print(\"String after removing spaces: \", filtered_string)\n"
   ]
  },
  {
   "cell_type": "code",
   "execution_count": null,
   "metadata": {},
   "outputs": [],
   "source": [
    "#12. Remove brackets from an algebraic expression\n",
    "expression = input(\"Enter an algebraic expression: \")\n",
    "filtered_expression = \"\".join(char for char in expression if char not in '()')\n",
    "print(\"Expression after removing brackets: \", filtered_expression)\n"
   ]
  },
  {
   "cell_type": "code",
   "execution_count": null,
   "metadata": {},
   "outputs": [],
   "source": [
    "#13. Count the sum of numbers in a string\n",
    "string = input(\"Enter a string: \")\n",
    "numbers = [int(num) for num in string if num.isdigit()]\n",
    "sum_of_numbers = sum(numbers)\n",
    "print(\"Sum of numbers in string: \", sum_of_numbers)\n"
   ]
  },
  {
   "cell_type": "code",
   "execution_count": null,
   "metadata": {},
   "outputs": [],
   "source": [
    "#14. Capitalize the first and last character of each word of a string\n",
    "string = input(\"Enter a string: \")\n",
    "capitalized_string = \" \".join(word[0].upper() + word[1:-1] + word[-1].upper() for word in string.split())\n",
    "print(\"Capitalized string is: \", capitalized_string)\n"
   ]
  },
  {
   "cell_type": "code",
   "execution_count": null,
   "metadata": {},
   "outputs": [],
   "source": [
    "#15. Calculate frequency of characters in a string\n",
    "string = input(\"Enter a string: \")\n",
    "frequency = {char: string.count(char) for char in set(string)}\n",
    "print(\"Frequency of characters in string: \", frequency)\n",
    "\n"
   ]
  },
  {
   "cell_type": "code",
   "execution_count": null,
   "metadata": {},
   "outputs": [],
   "source": [
    "#16. Find non-repeating characters in a string\n",
    "string = input(\"Enter a string: \")\n",
    "non_repeating_chars = [char for char in string if string.count(char) == 1]\n",
    "print(\"Non-repeating characters in string: \", non_repeating_chars)\n"
   ]
  },
  {
   "cell_type": "code",
   "execution_count": null,
   "metadata": {},
   "outputs": [],
   "source": [
    "#17. Check if two strings are Anagram or not\n",
    "string1 = input(\"Enter first string: \")\n",
    "string2 = input(\"Enter second string: \")\n",
    "is_anagram = sorted(string1) == sorted(string2)\n",
    "print(\"Strings are anagram: \", is_anagram)\n"
   ]
  },
  {
   "cell_type": "code",
   "execution_count": null,
   "metadata": {},
   "outputs": [],
   "source": [
    "#18. Replace a sub-string in a string\n",
    "string = input(\"Enter a string: \")\n",
    "sub_string = input(\"Enter sub-string to replace: \")\n",
    "replacement = input(\"Enter replacement string: \")\n",
    "replaced_string = string.replace(sub_string, replacement)\n",
    "print(\"String after replacement: \", replaced_string)\n"
   ]
  },
  {
   "cell_type": "code",
   "execution_count": null,
   "metadata": {},
   "outputs": [],
   "source": [
    "#19. Replacing a particular word with another word in a string\n",
    "string = input(\"Enter a string: \")\n",
    "word = input(\"Enter word to replace: \")\n",
    "replacement = input(\"Enter replacement word: \")\n",
    "replaced_string = string.replace(word, replacement)\n",
    "print(\"String after replacement: \", replaced_string)\n"
   ]
  },
  {
   "cell_type": "code",
   "execution_count": null,
   "metadata": {},
   "outputs": [],
   "source": [
    "#20. Count common sub-sequence in two strings\n",
    "string1 = input(\"Enter first string: \")\n",
    "string2 = input(\"Enter second string: \")\n",
    "common_subsequence = set(string1) & set(string2)\n",
    "print(\"Common sub-sequence in strings: \", common_subsequence)\n"
   ]
  },
  {
   "cell_type": "code",
   "execution_count": null,
   "metadata": {},
   "outputs": [],
   "source": [
    "#21. Check if two strings match where one string contains wildcard characters\n",
    "string1 = input(\"Enter first string: \")\n",
    "string2 = input(\"Enter second string: \")\n",
    "wildcard = '?', '*', '#', '@', '!', '^', '&', '$', '%', '~'\n",
    "is_match = all(c1 == c2 or c2 in wildcard for c1, c2 in zip(string1, string2))\n",
    "print(\"Strings match: \", is_match)\n"
   ]
  },
  {
   "cell_type": "code",
   "execution_count": null,
   "metadata": {},
   "outputs": [],
   "source": [
    "#22. Print all permutations of a given string in lexicographically sorted order \n",
    "import itertools\n",
    "string = input(\"Enter a string: \")\n",
    "permutations = sorted(set(\"\".join(perm) for perm in itertools.permutations(string)))\n",
    "print(\"Permutations of string: \", permutations)"
   ]
  },
  {
   "cell_type": "markdown",
   "metadata": {},
   "source": [
    "## Advanced Codes related to Arrays\n"
   ]
  },
  {
   "cell_type": "code",
   "execution_count": null,
   "metadata": {},
   "outputs": [],
   "source": [
    "#1. Given an array which consists of only 0, 1 and 2. Sort the array without using any  algorithm\n",
    "arr = list(map(int, input(\"Enter array: \").split()))\n",
    "zeros = arr.count(0)\n",
    "ones = arr.count(1)\n",
    "twos = arr.count(2)\n",
    "arr[:zeros] = [0] * zeros\n",
    "arr[zeros:zeros+ones] = [1] * ones\n",
    "arr[zeros+ones:] = [2] * twos\n",
    "print(\"Sorted array is: \", arr)"
   ]
  },
  {
   "cell_type": "code",
   "execution_count": null,
   "metadata": {},
   "outputs": [],
   "source": [
    "#2. Find the “Kth” max and min element of an array\n",
    "arr = list(map(int, input(\"Enter array: \").split()))\n",
    "k = int(input(\"Enter k: \"))\n",
    "arr.sort()\n",
    "kth_min = arr[k-1]\n",
    "kth_max = arr[-k]\n",
    "print(f\"Kth min element is: {kth_min}\")\n"
   ]
  },
  {
   "cell_type": "code",
   "execution_count": null,
   "metadata": {},
   "outputs": [],
   "source": [
    "#3. Move all the negative elements to one side of the array\n",
    "arr = list(map(int, input(\"Enter array: \").split()))\n",
    "j = 0\n",
    "for i in range(len(arr)):\n",
    "    if arr[i] < 0:\n",
    "        arr[i], arr[j] = arr[j], arr[i]\n",
    "        j += 1\n",
    "print(\"Array after moving negative elements: \", arr)\n"
   ]
  },
  {
   "cell_type": "code",
   "execution_count": null,
   "metadata": {},
   "outputs": [],
   "source": [
    "#4. Find the Union and Intersection of the two sorted arrays.\n",
    "arr1 = list(map(int, input(\"Enter first array: \").split()))\n",
    "arr2 = list(map(int, input(\"Enter second array: \").split()))\n",
    "union = list(set(arr1) | set(arr2))\n",
    "intersection = list(set(arr1) & set(arr2))\n",
    "print(\"Union of arrays: \", union)\n",
    "print(\"Intersection of arrays: \", intersection)\n"
   ]
  },
  {
   "cell_type": "code",
   "execution_count": null,
   "metadata": {},
   "outputs": [],
   "source": [
    "#5. Find Largest sum contiguous Subarray\n",
    "arr = list(map(int, input(\"Enter array: \").split()))\n",
    "max_sum = current_sum = arr[0]\n",
    "for i in range(1, len(arr)):\n",
    "    current_sum = max(arr[i], current_sum + arr[i])\n",
    "    max_sum = max(max_sum, current_sum)\n",
    "print(\"Largest sum contiguous subarray is: \", max_sum)\n"
   ]
  },
  {
   "cell_type": "code",
   "execution_count": null,
   "metadata": {},
   "outputs": [],
   "source": [
    "#6. Minimize the maximum difference between heights\n",
    "arr = list(map(int, input(\"Enter array: \").split()))\n",
    "k = int(input(\"Enter k: \"))\n",
    "arr.sort()\n",
    "min_diff = arr[-1] - arr[0]\n",
    "for i in range(1, len(arr)):\n",
    "    min_height = min(arr[0]+k, arr[i]-k)\n",
    "    max_height = max(arr[-1]-k, arr[i-1]+k)\n",
    "    min_diff = min(min_diff, max_height - min_height)\n",
    "print(\"Minimum maximum difference between heights is: \", min_diff)\n"
   ]
  },
  {
   "cell_type": "code",
   "execution_count": null,
   "metadata": {},
   "outputs": [],
   "source": [
    "#7. Minimum no. of Jumps to reach the end of an array\n"
   ]
  },
  {
   "cell_type": "code",
   "execution_count": null,
   "metadata": {},
   "outputs": [],
   "source": [
    "#8. Find duplicate in an array of N+1 Integers\n",
    "arr = list(map(int, input(\"Enter array: \").split()))\n",
    "duplicate = sum(arr) - sum(set(arr))\n",
    "print(\"Duplicate element in array: \", duplicate)"
   ]
  },
  {
   "cell_type": "code",
   "execution_count": null,
   "metadata": {},
   "outputs": [],
   "source": [
    "#9. Merge 2 sorted arrays without using extra space.\n",
    "arr1 = list(map(int, input(\"Enter first array: \").split()))\n",
    "arr2 = list(map(int, input(\"Enter second array: \").split()))\n",
    "i = j = 0\n",
    "\n"
   ]
  },
  {
   "cell_type": "code",
   "execution_count": null,
   "metadata": {},
   "outputs": [],
   "source": [
    "#10. Kadane’s Algorithm\n"
   ]
  },
  {
   "cell_type": "code",
   "execution_count": null,
   "metadata": {},
   "outputs": [],
   "source": [
    "#11. Merge Intervals\n"
   ]
  },
  {
   "cell_type": "code",
   "execution_count": null,
   "metadata": {},
   "outputs": [],
   "source": [
    "#12. Count Inversion\n"
   ]
  },
  {
   "cell_type": "code",
   "execution_count": null,
   "metadata": {},
   "outputs": [],
   "source": [
    "#13. Best time to buy and Sell stock\n"
   ]
  },
  {
   "cell_type": "code",
   "execution_count": null,
   "metadata": {},
   "outputs": [],
   "source": [
    "#14. Find all pairs on integer array whose sum is equal to given number\n"
   ]
  },
  {
   "cell_type": "code",
   "execution_count": null,
   "metadata": {},
   "outputs": [],
   "source": [
    "#15. Find if there is any subarray with sum equal to 0\n"
   ]
  },
  {
   "cell_type": "code",
   "execution_count": null,
   "metadata": {},
   "outputs": [],
   "source": [
    "#16. Find factorial of a Large Number\n"
   ]
  },
  {
   "cell_type": "code",
   "execution_count": null,
   "metadata": {},
   "outputs": [],
   "source": [
    "#17. Find common elements In 3 sorted arrays\n"
   ]
  },
  {
   "cell_type": "code",
   "execution_count": null,
   "metadata": {},
   "outputs": [],
   "source": [
    "#18. Rearrange the array in alternating positive and negative items with O(1) extra space\n"
   ]
  },
  {
   "cell_type": "code",
   "execution_count": null,
   "metadata": {},
   "outputs": [],
   "source": [
    "#19. Given an array of size n and a number k, find all elements that appear more than ” n/k ” times.\n"
   ]
  },
  {
   "cell_type": "code",
   "execution_count": null,
   "metadata": {},
   "outputs": [],
   "source": [
    "#20. Maximum profit by buying and selling a share atmost twice\n"
   ]
  },
  {
   "cell_type": "code",
   "execution_count": null,
   "metadata": {},
   "outputs": [],
   "source": [
    "#21. Next Permutation\n"
   ]
  },
  {
   "cell_type": "code",
   "execution_count": null,
   "metadata": {},
   "outputs": [],
   "source": [
    "#22. Find longest consecutive subsequence\n"
   ]
  },
  {
   "cell_type": "code",
   "execution_count": null,
   "metadata": {},
   "outputs": [],
   "source": [
    "#23. Trapping Rain water problem\n"
   ]
  },
  {
   "cell_type": "code",
   "execution_count": null,
   "metadata": {},
   "outputs": [],
   "source": [
    "#24. Chocolate Distribution problem\n"
   ]
  },
  {
   "cell_type": "code",
   "execution_count": null,
   "metadata": {},
   "outputs": [],
   "source": [
    "#25. Smallest Subarray with sum greater than a given value\n"
   ]
  },
  {
   "cell_type": "code",
   "execution_count": null,
   "metadata": {},
   "outputs": [],
   "source": [
    "#26. Three way partitioning of an array around a given value\n"
   ]
  },
  {
   "cell_type": "code",
   "execution_count": null,
   "metadata": {},
   "outputs": [],
   "source": [
    "#27. Minimum no. of operations required to make an array palindrome\n"
   ]
  },
  {
   "cell_type": "code",
   "execution_count": null,
   "metadata": {},
   "outputs": [],
   "source": [
    "#28. Median of 2 sorted arrays of equal size\n"
   ]
  },
  {
   "cell_type": "code",
   "execution_count": null,
   "metadata": {},
   "outputs": [],
   "source": [
    "#29. Median of 2 sorted arrays of different size"
   ]
  },
  {
   "cell_type": "markdown",
   "metadata": {},
   "source": [
    "## Codes related to Matrix(completed)\n"
   ]
  },
  {
   "cell_type": "code",
   "execution_count": null,
   "metadata": {},
   "outputs": [],
   "source": [
    "#1. Spiral traversal on a Matrix\n",
    "def spiral_traversal(matrix):\n",
    "    result = []\n",
    "    while matrix:\n",
    "        result += matrix[0]\n",
    "        matrix = list(zip(*matrix[1:]))[::-1]\n",
    "    return result\n",
    "rows, cols = map(int, input(\"Enter rows and columns: \").split())\n",
    "matrix = [list(map(int, input().split())) for _ in range(rows)]\n",
    "result = spiral_traversal(matrix)\n",
    "print(\"Spiral traversal of matrix: \", result)"
   ]
  },
  {
   "cell_type": "code",
   "execution_count": null,
   "metadata": {},
   "outputs": [],
   "source": [
    "#2. Search an element in a matrix\n",
    "arr = [list(map(int, input().split())) for _ in range(3)]\n",
    "target = int(input(\"Enter target: \"))\n",
    "found = any(target in row for row in arr)\n",
    "print(arr)\n",
    "print(\"Element found: \", found)"
   ]
  },
  {
   "cell_type": "code",
   "execution_count": null,
   "metadata": {},
   "outputs": [],
   "source": [
    "#3. Find median in a row wise sorted matrix\n",
    "import heapq\n",
    "arr = [list(map(int, input().split())) for _ in range(3)]\n",
    "elements = [element for row in arr for element in row]\n",
    "heapq.heapify(elements)\n",
    "n = len(elements)\n",
    "for _ in range(n//2):\n",
    "    median = heapq.heappop(elements)\n",
    "print(\"Median of matrix: \", median)\n"
   ]
  },
  {
   "cell_type": "code",
   "execution_count": null,
   "metadata": {},
   "outputs": [],
   "source": [
    "#4. Find row with maximum no. of 1’s\n",
    "arr = [list(map(int, input().split())) for _ in range(3)]\n",
    "max_ones = max(arr, key=lambda row: row.count(1))\n",
    "print(\"Row with maximum 1's: \", max_ones)\n"
   ]
  },
  {
   "cell_type": "code",
   "execution_count": 26,
   "metadata": {},
   "outputs": [
    {
     "name": "stdout",
     "output_type": "stream",
     "text": [
      "Elements in sorted order: [1, 1, 2, 2, 3, 3]\n"
     ]
    }
   ],
   "source": [
    "#5. Print elements in sorted order using row-column wise sorted matrix\n",
    "import heapq\n",
    "\n",
    "def print_sorted_elements(matrix):\n",
    "    # Get dimensions of the matrix\n",
    "    rows = len(matrix)\n",
    "    cols = len(matrix[0])\n",
    "    \n",
    "    # Initialize a min-heap\n",
    "    min_heap = []\n",
    "    \n",
    "    # Add the first element of each row to the heap\n",
    "    for r in range(rows):\n",
    "        heapq.heappush(min_heap, (matrix[r][0], r, 0))\n",
    "    \n",
    "    # Extract elements from the heap and push the next element from the same row\n",
    "    sorted_elements = []\n",
    "    while min_heap:\n",
    "        val, r, c = heapq.heappop(min_heap)\n",
    "        sorted_elements.append(val)\n",
    "        if c + 1 < cols:\n",
    "            heapq.heappush(min_heap, (matrix[r][c + 1], r, c + 1))\n",
    "    \n",
    "    return sorted_elements\n",
    "\n",
    "# Read matrix dimensions and elements\n",
    "rows, cols = map(int, input(\"Enter matrix dimensions (rows cols): \").split())\n",
    "matrix = [list(map(int, input().split())) for _ in range(rows)]\n",
    "\n",
    "# Get sorted elements\n",
    "sorted_elements = print_sorted_elements(matrix)\n",
    "\n",
    "# Print sorted elements\n",
    "print(\"Elements in sorted order:\", sorted_elements)"
   ]
  },
  {
   "cell_type": "code",
   "execution_count": null,
   "metadata": {},
   "outputs": [],
   "source": [
    "#6. Find a specific pair in matrix\n",
    "arr = [list(map(int, input().split())) for _ in range(3)]\n",
    "target = int(input(\"Enter target: \"))\n",
    "n = len(arr)\n",
    "found = False\n",
    "for i in range(n):\n",
    "    for j in range(len(arr[i])):\n",
    "        if arr[i][j] == target:\n",
    "            print(f\"Target found at: ({i}, {j})\")\n",
    "            found = True\n",
    "            break\n",
    "    if found:\n",
    "        break\n",
    "\n",
    "if not found:\n",
    "    print(\"Target not found\")\n",
    "\n"
   ]
  },
  {
   "cell_type": "code",
   "execution_count": null,
   "metadata": {},
   "outputs": [],
   "source": [
    "#7. Rotate matrix by 90 degrees\n",
    "def rotate_matrix_90_degrees(arr, row, col):\n",
    "    rotated_matrix = [[0] * row for _ in range(col)]\n",
    "    for i in range(row):\n",
    "        for j in range(col):\n",
    "            rotated_matrix[j][row - 1 - i] = arr[i][j]\n",
    "    return rotated_matrix\n",
    "\n",
    "# Read the number of rows and columns\n",
    "row, col = map(int, input().split())\n",
    "\n",
    "# Read the matrix elements and ensure correct number of columns per row\n",
    "arr = [list(map(int, input().split()[:col])) for _ in range(row)]\n",
    "\n",
    "# Rotate the matrix\n",
    "rotated_matrix = rotate_matrix_90_degrees(arr, row, col)\n",
    "\n",
    "# Print the rotated matrix\n",
    "for r in rotated_matrix:\n",
    "    print(' '.join(map(str, r)))\n"
   ]
  },
  {
   "cell_type": "code",
   "execution_count": null,
   "metadata": {},
   "outputs": [],
   "source": [
    "#8. Kth smallest element in a row-column wise sorted matrix\n",
    "def count_less_equal(matrix, mid, n):\n",
    "    count = 0\n",
    "    row, col = n - 1, 0  # Start from the bottom-left corner\n",
    "    while row >= 0 and col < n:\n",
    "        if matrix[row][col] <= mid:\n",
    "            count += row + 1\n",
    "            col += 1\n",
    "        else:\n",
    "            row -= 1\n",
    "    return count\n",
    "\n",
    "def kth_smallest(matrix, k):\n",
    "    n = len(matrix)\n",
    "    low, high = matrix[0][0], matrix[n - 1][n - 1]\n",
    "    \n",
    "    while low < high:\n",
    "        mid = (low + high) // 2\n",
    "        count = count_less_equal(matrix, mid, n)\n",
    "        \n",
    "        if count < k:\n",
    "            low = mid + 1\n",
    "        else:\n",
    "            high = mid\n",
    "    \n",
    "    return low\n",
    "\n",
    "# Read matrix dimensions and elements\n",
    "rows, cols = map(int, input(\"Enter matrix dimensions (rows cols): \").split())\n",
    "matrix = [list(map(int, input().split())) for _ in range(rows)]\n",
    "\n",
    "# Read the value of k\n",
    "k = int(input(\"Enter the value of k: \"))\n",
    "\n",
    "# Find the kth smallest element\n",
    "kth_smallest_element = kth_smallest(matrix, k)\n",
    "\n",
    "# Print the kth smallest element\n",
    "print(f\"The {k}th smallest element is: {kth_smallest_element}\")\n"
   ]
  },
  {
   "cell_type": "code",
   "execution_count": null,
   "metadata": {},
   "outputs": [],
   "source": [
    "#9. Common elements in all rows of a given matrix\n",
    "def find_common_elements(matrix):\n",
    "    # Dictionary to store the count of each element in each row\n",
    "    common_dict = {}\n",
    "    \n",
    "    # Number of rows\n",
    "    rows = len(matrix)\n",
    "    \n",
    "    # Traverse the matrix row-wise\n",
    "    for i in range(rows):\n",
    "        row_elements = set(matrix[i])  # Use a set to avoid duplicate elements in the same row\n",
    "        for element in row_elements:\n",
    "            if element in common_dict:\n",
    "                common_dict[element] += 1\n",
    "            else:\n",
    "                common_dict[element] = 1\n",
    "\n",
    "    # Extract elements that are common in all rows\n",
    "    common_elements = [element for element, count in common_dict.items() if count == rows]\n",
    "    \n",
    "    return common_elements\n",
    "\n",
    "# Read matrix dimensions and elements\n",
    "rows, cols = map(int, input(\"Enter matrix dimensions (rows cols): \").split())\n",
    "matrix = [list(map(int, input().split())) for _ in range(rows)]\n",
    "\n",
    "# Find common elements in all rows\n",
    "common_elements = find_common_elements(matrix)\n",
    "\n",
    "# Print the common elements\n",
    "if common_elements:\n",
    "    print(\"Common elements in all rows:\", common_elements)\n",
    "else:\n",
    "    print(\"No common elements in all rows\")\n"
   ]
  }
 ],
 "metadata": {
  "kernelspec": {
   "display_name": "Python 3",
   "language": "python",
   "name": "python3"
  },
  "language_info": {
   "codemirror_mode": {
    "name": "ipython",
    "version": 3
   },
   "file_extension": ".py",
   "mimetype": "text/x-python",
   "name": "python",
   "nbconvert_exporter": "python",
   "pygments_lexer": "ipython3",
   "version": "3.11.0"
  }
 },
 "nbformat": 4,
 "nbformat_minor": 2
}
